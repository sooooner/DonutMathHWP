{
 "cells": [
  {
   "cell_type": "code",
   "execution_count": 1,
   "metadata": {},
   "outputs": [
    {
     "name": "stdout",
     "output_type": "stream",
     "text": [
      "WARNING:tensorflow:From c:\\Users\\tnsgh\\anaconda3\\envs\\nougat\\lib\\site-packages\\tf_keras\\src\\losses.py:2976: The name tf.losses.sparse_softmax_cross_entropy is deprecated. Please use tf.compat.v1.losses.sparse_softmax_cross_entropy instead.\n",
      "\n"
     ]
    }
   ],
   "source": [
    "import torch\n",
    "\n",
    "from dataset.hwp import Hwp\n",
    "from dataset.utils import list_all_files\n",
    "from tutorial_utils import make_hwp_text, Image2Text"
   ]
  },
  {
   "cell_type": "code",
   "execution_count": 2,
   "metadata": {},
   "outputs": [],
   "source": [
    "device = \"cuda\" if torch.cuda.is_available() else \"cpu\""
   ]
  },
  {
   "cell_type": "code",
   "execution_count": 3,
   "metadata": {},
   "outputs": [],
   "source": [
    "save_path = \"models/donut_nougat_aug\"\n",
    "image_to_text = Image2Text(save_path, device)"
   ]
  },
  {
   "cell_type": "code",
   "execution_count": null,
   "metadata": {},
   "outputs": [],
   "source": [
    "hwp = Hwp()\n",
    "hwp.run_hwp()\n",
    "hwp.page_set_up()\n",
    "hwp.convert_multi_column()\n",
    "hwp.convet_tap_pt(pt=200.0)"
   ]
  },
  {
   "cell_type": "code",
   "execution_count": 9,
   "metadata": {},
   "outputs": [
    {
     "name": "stdout",
     "output_type": "stream",
     "text": [
      "3. 정적분 $int_0 ^2 left| x^2 - 1 right| dx$의 값은?\n",
      "① $1 over 2$\n",
      "② $1$\n",
      "③ $3 over 2$\n",
      "④ $2$\n",
      "⑤ $5 over 2$\n",
      "\n",
      "\n",
      "8. 삼각형 $rm ABC$에서 $bar{rmAB}=2$, $angle rmB=90DEG$, $angle rmC=30DEG$이다. 점 $rmP$가 $rm vec{PB} +vec{PC} = vec0$를 만족시킬 때, $rm {left| vec{PA } right|}^{2}$의 값은?\n",
      "[2012학년도 수능]\n",
      "① $5$② $6$③ $7$④ $8$⑤ $9$\n",
      "\n",
      "\n",
      "12. 이차함수 $y=f(x)$와 삼차함수 $y=g(x)$의 그래프가 그림과 같다.\n",
      "[image]\n",
      "$f(-1)=f(3)=0$이고, 함수 $g(x)$가 $x=3$에서 극솟값 $-2$를 가질 때, 방정식 ${g(x)+2} over f(x) - 2 over g(x) =1$의 서로 다른 실근의 개수는?\n",
      "[3점][2012학년도 수능]\n",
      "① $1$② $2$③ $3$④ $4$⑤ $5$\n",
      "\n",
      "\n"
     ]
    }
   ],
   "source": [
    "images_path = list_all_files('sample')\n",
    "\n",
    "contents_list = []\n",
    "for image_path in images_path:\n",
    "    try:\n",
    "        contents, image, seq = image_to_text.get_text(image_path, num_beams=4)\n",
    "    except:\n",
    "        continue\n",
    "    \n",
    "    if contents is None:\n",
    "        continue\n",
    "\n",
    "    print('\\n'.join(contents))\n",
    "    print()\n",
    "    print()\n",
    "\n",
    "    make_hwp_text(hwp, contents)\n",
    "    contents_list.append(contents)"
   ]
  }
 ],
 "metadata": {
  "kernelspec": {
   "display_name": "nougat",
   "language": "python",
   "name": "python3"
  },
  "language_info": {
   "codemirror_mode": {
    "name": "ipython",
    "version": 3
   },
   "file_extension": ".py",
   "mimetype": "text/x-python",
   "name": "python",
   "nbconvert_exporter": "python",
   "pygments_lexer": "ipython3",
   "version": "3.9.18"
  }
 },
 "nbformat": 4,
 "nbformat_minor": 2
}
