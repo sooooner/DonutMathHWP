{
 "cells": [
  {
   "cell_type": "code",
   "execution_count": 4,
   "metadata": {},
   "outputs": [],
   "source": [
    "import torch\n",
    "\n",
    "from dataset.hwp import Hwp\n",
    "from dataset.utils import list_all_files\n",
    "from tutorial_utils import make_hwp_text, Image2Text"
   ]
  },
  {
   "cell_type": "code",
   "execution_count": 5,
   "metadata": {},
   "outputs": [],
   "source": [
    "device = \"cuda\" if torch.cuda.is_available() else \"cpu\"\n",
    "# device = \"cpu\""
   ]
  },
  {
   "cell_type": "code",
   "execution_count": 6,
   "metadata": {},
   "outputs": [],
   "source": [
    "save_path = \"models/donut_nougat_aug\"\n",
    "# save_path = \"models/donut_quantized_small\"\n",
    "image_to_text = Image2Text(save_path, device)"
   ]
  },
  {
   "cell_type": "code",
   "execution_count": 7,
   "metadata": {},
   "outputs": [],
   "source": [
    "hwp = Hwp()\n",
    "hwp.run_hwp()\n",
    "hwp.page_set_up()\n",
    "hwp.convert_multi_column()\n",
    "hwp.convet_tap_pt(pt=200.0)\n",
    "\n",
    "images_path = list_all_files('sample')\n",
    "\n",
    "contents_list = []\n",
    "for image_path in images_path:\n",
    "    try:\n",
    "        contents, image, seq = image_to_text.get_text(image_path, num_beams=4)\n",
    "    except:\n",
    "        continue\n",
    "    \n",
    "    if contents is None:\n",
    "        continue\n",
    "\n",
    "    make_hwp_text(hwp, contents)\n",
    "    contents_list.append(contents)"
   ]
  }
 ],
 "metadata": {
  "kernelspec": {
   "display_name": "nougat",
   "language": "python",
   "name": "python3"
  },
  "language_info": {
   "codemirror_mode": {
    "name": "ipython",
    "version": 3
   },
   "file_extension": ".py",
   "mimetype": "text/x-python",
   "name": "python",
   "nbconvert_exporter": "python",
   "pygments_lexer": "ipython3",
   "version": "3.9.18"
  }
 },
 "nbformat": 4,
 "nbformat_minor": 2
}
